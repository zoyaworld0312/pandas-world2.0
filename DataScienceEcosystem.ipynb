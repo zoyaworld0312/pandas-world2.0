{
  "metadata": {
    "language_info": {
      "codemirror_mode": {
        "name": "python",
        "version": 3
      },
      "file_extension": ".py",
      "mimetype": "text/x-python",
      "name": "python",
      "nbconvert_exporter": "python",
      "pygments_lexer": "ipython3",
      "version": "3.8"
    },
    "kernelspec": {
      "name": "python",
      "display_name": "Python (Pyodide)",
      "language": "python"
    }
  },
  "nbformat_minor": 4,
  "nbformat": 4,
  "cells": [
    {
      "cell_type": "markdown",
      "source": "# Data Science Tools and Ecosystem",
      "metadata": {}
    },
    {
      "cell_type": "markdown",
      "source": "# Introduction\n\nIn this notebook, a comprehensive summary of the Data Science Tools and Ecosystem is presented, providing insights into the essential tools and technologies shaping the field of data science.\n",
      "metadata": {}
    },
    {
      "cell_type": "markdown",
      "source": "# Objectives:\n\n**Key takeaways from the notebook:**\n\n- Explore and list some of the popular languages for Data Science.\n- Introduce commonly used libraries by Data Scientists.\n- Understand and evaluate arithmetic expressions in Python.\n- Demonstrate a code cell for basic arithmetic operations.\n- Convert minutes to hours using a simple Python expression.\n",
      "metadata": {}
    },
    {
      "cell_type": "markdown",
      "source": "**Overview:** Some of the popular languages that Data Scientists use are:\n\n1. Python\n2. R\n3. Julia\n\nIn this notebook, a comprehensive summary of the Data Science Tools and Ecosystem is presented, providing insights into the essential tools and technologies shaping the field of data science.\n",
      "metadata": {}
    },
    {
      "cell_type": "markdown",
      "source": "**Overview:** Some of the commonly used libraries by Data Scientists include:\n\n1. NumPy\n2. Pandas\n3. Matplotlib\n4. Scikit-learn\n",
      "metadata": {}
    },
    {
      "cell_type": "markdown",
      "source": "# Data Science Tools\n\n| Data Science Tools           |\n| ---------------------------- |\n| Jupyter Notebooks            |\n| RStudio                      |\n| VS Code (Visual Studio Code) |\n",
      "metadata": {}
    },
    {
      "cell_type": "markdown",
      "source": "# Introduction to Arithmetic Expressions\n\nIn data science, understanding how to work with arithmetic expressions is fundamental. Below are a few examples of evaluating arithmetic expressions in Python.\n\n### Examples of Evaluating Arithmetic Expressions\n\nresult = (8 + 2) * (15 / 3) - (7 % 3)\n\n",
      "metadata": {}
    },
    {
      "cell_type": "code",
      "source": "# This is a simple arithmetic expression to multiply then add integers.\nresult = (3 * 4) + 5\nresult\n",
      "metadata": {
        "trusted": true
      },
      "execution_count": 1,
      "outputs": [
        {
          "execution_count": 1,
          "output_type": "execute_result",
          "data": {
            "text/plain": "17"
          },
          "metadata": {}
        }
      ]
    },
    {
      "cell_type": "code",
      "source": "# This will convert 200 minutes to hours by dividing by 60.\nminutes = 200\nhours = minutes / 60\nhours\n",
      "metadata": {
        "trusted": true
      },
      "execution_count": 2,
      "outputs": [
        {
          "execution_count": 2,
          "output_type": "execute_result",
          "data": {
            "text/plain": "3.3333333333333335"
          },
          "metadata": {}
        }
      ]
    },
    {
      "cell_type": "markdown",
      "source": "## Author\n\nAHMED ASHFAQ\n",
      "metadata": {}
    },
    {
      "cell_type": "code",
      "source": "",
      "metadata": {},
      "execution_count": null,
      "outputs": []
    }
  ]
}